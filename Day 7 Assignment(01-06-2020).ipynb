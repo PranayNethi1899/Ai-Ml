{
 "cells": [
  {
   "cell_type": "markdown",
   "metadata": {},
   "source": [
    "## CSE-221710305036-PranayRaj\n",
    "###  Day 7 Assignment(01-06-2020)"
   ]
  },
  {
   "cell_type": "code",
   "execution_count": 1,
   "metadata": {},
   "outputs": [
    {
     "name": "stdout",
     "output_type": "stream",
     "text": [
      "New password is:\n",
      "comfortbox16&\n",
      "type\"again\"for new password\n",
      "\n",
      "again\n",
      "New password is:\n",
      "bravefan26(\n",
      "type\"again\"for new password\n",
      "\n",
      "again\n",
      "New password is:\n",
      "fatchair24,\n",
      "type\"again\"for new password\n",
      "\n",
      "again\n",
      "New password is:\n",
      "comfortbat58?\n",
      "type\"again\"for new password\n",
      "\n",
      "end\n"
     ]
    }
   ],
   "source": [
    "#Q)Password Picker\n",
    "\n",
    "import random\n",
    "\n",
    "while(1):\n",
    "    adj=[\"tall\",\"fat\",\"short\",\"thin\",\"attractive\",\"white\",\"shiny\",\"brave\",\"distinct\",\"comfort\"]\n",
    "    noun=[\"fan\",\"bat\",\"cat\",\"bat\",\"hat\",\"racket\",\"box\",\"chair\",\"hair\",\"bowl\"]\n",
    "    pun=[',','.','/','?','!','-','(','&','*','#']\n",
    "    \n",
    "    print(\"New password is:\\n\"+random.choice(adj)+random.choice(noun)+str(random.randint(1,100))+random.choice(pun)+\"\\ntype\\\"again\\\"for new password\\n\")\n",
    "    a=input()\n",
    "    if(a!='again'):\n",
    "        break\n",
    "    "
   ]
  },
  {
   "cell_type": "code",
   "execution_count": null,
   "metadata": {},
   "outputs": [],
   "source": []
  }
 ],
 "metadata": {
  "kernelspec": {
   "display_name": "Python 3",
   "language": "python",
   "name": "python3"
  },
  "language_info": {
   "codemirror_mode": {
    "name": "ipython",
    "version": 3
   },
   "file_extension": ".py",
   "mimetype": "text/x-python",
   "name": "python",
   "nbconvert_exporter": "python",
   "pygments_lexer": "ipython3",
   "version": "3.7.3"
  }
 },
 "nbformat": 4,
 "nbformat_minor": 2
}
