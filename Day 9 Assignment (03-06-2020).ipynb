{
 "cells": [
  {
   "cell_type": "markdown",
   "metadata": {},
   "source": [
    "## CSE-221710305036-PranayRaj \n",
    "### Day 9 Assignment (03-06-20)"
   ]
  },
  {
   "cell_type": "code",
   "execution_count": 1,
   "metadata": {},
   "outputs": [
    {
     "name": "stdout",
     "output_type": "stream",
     "text": [
      "AiandMl \n",
      "\n",
      "everyone Hello \n",
      "\n",
      "message test is this \n",
      "\n",
      "tankyou \n",
      "\n",
      "2 test \n",
      "\n",
      "3 test \n",
      "\n",
      "\n",
      "\n"
     ]
    }
   ],
   "source": [
    "f=open(\"Data.txt\",\"r\")\n",
    "f1=open(\"Datacopy.txt\",\"w\")\n",
    "for i in f:\n",
    "    f1.write(i)\n",
    "f1=open(\"Datacopy.txt\",\"r\")\n",
    "for j in f1:\n",
    "    s=j.split()\n",
    "    for k in range(len(s)-1,-1,-1):\n",
    "        print(s[k],end=\" \")\n",
    "    print(\"\\n\")"
   ]
  },
  {
   "cell_type": "code",
   "execution_count": 2,
   "metadata": {},
   "outputs": [
    {
     "name": "stdout",
     "output_type": "stream",
     "text": [
      "1.AiandMl\n",
      "\n",
      "2.Hello everyone\n",
      "\n",
      "3.this is test message\n",
      "\n",
      "4.tankyou\n",
      "\n",
      "5.test 2\n",
      "\n",
      "6.test 3\n",
      "\n",
      "7.\n",
      "\n"
     ]
    }
   ],
   "source": [
    "f=open(\"Data.txt\",\"r\")\n",
    "l=1\n",
    "for i in f:\n",
    "    print(str(l)+\".\"+i)\n",
    "    l+=1"
   ]
  },
  {
   "cell_type": "code",
   "execution_count": 14,
   "metadata": {},
   "outputs": [],
   "source": [
    "import fraction as fr"
   ]
  },
  {
   "cell_type": "code",
   "execution_count": 15,
   "metadata": {},
   "outputs": [
    {
     "data": {
      "text/plain": [
       "1.3333333333333333"
      ]
     },
     "execution_count": 15,
     "metadata": {},
     "output_type": "execute_result"
    }
   ],
   "source": [
    "fr.add_fraction(2/3,4/6)"
   ]
  },
  {
   "cell_type": "code",
   "execution_count": 16,
   "metadata": {},
   "outputs": [
    {
     "data": {
      "text/plain": [
       "0.4444444444444444"
      ]
     },
     "execution_count": 16,
     "metadata": {},
     "output_type": "execute_result"
    }
   ],
   "source": [
    "fr.mul_fraction(2/3,4/6)"
   ]
  },
  {
   "cell_type": "code",
   "execution_count": 19,
   "metadata": {},
   "outputs": [
    {
     "data": {
      "text/plain": [
       "0.16666666666666663"
      ]
     },
     "execution_count": 19,
     "metadata": {},
     "output_type": "execute_result"
    }
   ],
   "source": [
    "fr.sub_fraction(2/3,1/2)"
   ]
  },
  {
   "cell_type": "code",
   "execution_count": 4,
   "metadata": {},
   "outputs": [
    {
     "name": "stdout",
     "output_type": "stream",
     "text": [
      "2 4 5 8 2 3 4 1 5\n",
      "Duplicates are present and they are removed\n",
      "[1, 2, 3, 4, 5, 8]\n"
     ]
    }
   ],
   "source": [
    "def isDupliPresent(list1):\n",
    "    set1=set(list1)\n",
    "    for i in set1:\n",
    "        if list1.count(i)>1:\n",
    "            return True\n",
    "    return False\n",
    "def removeDuplicates(list1):\n",
    "    if(isDupliPresent(list1)):\n",
    "        print(\"Duplicates are present and they are removed\")\n",
    "        return list(set(list1))\n",
    "    else:\n",
    "        print(\"No duplicates\")\n",
    "        return list1\n",
    "\n",
    "list1=list(map(int,input().split()))\n",
    "print(removeDuplicates(list1))"
   ]
  },
  {
   "cell_type": "code",
   "execution_count": 5,
   "metadata": {},
   "outputs": [
    {
     "name": "stdout",
     "output_type": "stream",
     "text": [
      "enter the list11 2 1\n",
      "enter the list21 1 2\n",
      "True\n"
     ]
    }
   ],
   "source": [
    "from itertools import *\n",
    "def isPermutation(list1,list2):\n",
    "    p=list(permutations(list1))\n",
    "    return tuple(list2) in p\n",
    "        \n",
    "list1=list(map(int,input(\"enter the list1\").split()))\n",
    "list2=list(map(int,input(\"enter the list2\").split()))\n",
    "print(isPermutation(list1,list2))"
   ]
  },
  {
   "cell_type": "code",
   "execution_count": null,
   "metadata": {},
   "outputs": [],
   "source": []
  }
 ],
 "metadata": {
  "kernelspec": {
   "display_name": "Python 3",
   "language": "python",
   "name": "python3"
  },
  "language_info": {
   "codemirror_mode": {
    "name": "ipython",
    "version": 3
   },
   "file_extension": ".py",
   "mimetype": "text/x-python",
   "name": "python",
   "nbconvert_exporter": "python",
   "pygments_lexer": "ipython3",
   "version": "3.7.3"
  }
 },
 "nbformat": 4,
 "nbformat_minor": 2
}
