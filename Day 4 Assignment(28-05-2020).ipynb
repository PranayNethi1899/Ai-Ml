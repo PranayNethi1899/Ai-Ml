{
 "cells": [
  {
   "cell_type": "code",
   "execution_count": 6,
   "metadata": {},
   "outputs": [
    {
     "name": "stdout",
     "output_type": "stream",
     "text": [
      "enter string:pranay@\n",
      "vowels: 2 consonants: 4 special characters: 1\n"
     ]
    }
   ],
   "source": [
    "#Q1)Accept a string from the user and count no.of vowels,consonants and special characters\n",
    "\n",
    "str=input(\"enter string:\")\n",
    "v=0\n",
    "c=0\n",
    "s=0\n",
    "for i in str:\n",
    "    if(i.isalpha()):\n",
    "        if(i=='a' or i=='e' or i=='i' or i=='o' or i=='u'):\n",
    "            v+=1\n",
    "        else:    \n",
    "            c+=1\n",
    "    else:\n",
    "        s+=1\n",
    "print(\"vowels:\",v,\"consonants:\",c,\"special characters:\",s)        "
   ]
  },
  {
   "cell_type": "code",
   "execution_count": 9,
   "metadata": {},
   "outputs": [
    {
     "name": "stdout",
     "output_type": "stream",
     "text": [
      "enter string:abbaaccbbaaa\n",
      "2\n"
     ]
    }
   ],
   "source": [
    "#Q2)count the no.of pairs of a in the given string(Infosys InfyTQ)\n",
    "#    string →  \"abbaaccbbaaa\"\n",
    "#    output →  2\n",
    "\n",
    "str=input(\"enter string:\")\n",
    "p=0\n",
    "c=0\n",
    "for i in str:\n",
    "    if i=='a' and c==0:\n",
    "        c=1\n",
    "    elif i=='a' and c==1:\n",
    "        c=0\n",
    "        p=p+1\n",
    "    else:\n",
    "        c=0\n",
    "print(p)        \n",
    "\n"
   ]
  },
  {
   "cell_type": "code",
   "execution_count": 5,
   "metadata": {
    "scrolled": true
   },
   "outputs": [
    {
     "name": "stdout",
     "output_type": "stream",
     "text": [
      "enter((((()()()))))()\n",
      "8\n"
     ]
    }
   ],
   "source": [
    "#Q3)Test case1:\n",
    "#        string →  \"((((()()()))))()\"\n",
    "#        output →  8\n",
    "#    Test case2:\n",
    "#        string →  \"((()))()\"\n",
    "#        Output →  4\n",
    "\n",
    "str=input(\"enter\")\n",
    "o=0\n",
    "c=0\n",
    "for i in str:\n",
    "    if(i=='('):\n",
    "        o=o+1\n",
    "    elif(i==')'):\n",
    "        c=c+1\n",
    "if(o==c):\n",
    "    print(o)\n",
    "else:\n",
    "    print(\"un-balanced\")"
   ]
  },
  {
   "cell_type": "code",
   "execution_count": 1,
   "metadata": {},
   "outputs": [
    {
     "name": "stdout",
     "output_type": "stream",
     "text": [
      "1\n",
      "100\n",
      "18\n"
     ]
    }
   ],
   "source": [
    "#Q4)Read the input as two limits and Print the output as Palindrome count between the two limits\n",
    "#Example #1; Input : 1 10 Output : 9\n",
    "# Example #2: Input : 1 100 Output : 18\n",
    "\n",
    "l=int(input())\n",
    "u=int(input())\n",
    "c=0\n",
    "for i in range(l,u+1):\n",
    "    s=str(i)\n",
    "    if s==s[::-1]:\n",
    "        c=c+1\n",
    "print(c)           \n",
    "1\n",
    "100\n",
    "18\n",
    "l=int(input())\n",
    "u=int(input())\n",
    "c=0\n",
    "for i in range(l,u+1):\n",
    "    s=str(i)\n",
    "    if s==s[::-1]:\n",
    "        c=c+1\n",
    "print(c)           "
   ]
  },
  {
   "cell_type": "code",
   "execution_count": 9,
   "metadata": {},
   "outputs": [
    {
     "name": "stdout",
     "output_type": "stream",
     "text": [
      "enter string:orange\n",
      "29puboif\n"
     ]
    }
   ],
   "source": [
    "#Q6)input:orange  →   output : puboif\n",
    "\n",
    "s=input(\"enter string:\")\n",
    "\n",
    "for i in s:\n",
    "    if i=='a'or i=='e'or i=='i'or i=='o'or i=='u':\n",
    "        c=c+chr(ord(i)+1)\n",
    "    else:\n",
    "        t=ord(i)\n",
    "        while chr(t) not in 'aeiou':\n",
    "            t=t+1\n",
    "        c=c+chr(t)\n",
    "print(c)        \n"
   ]
  },
  {
   "cell_type": "code",
   "execution_count": 4,
   "metadata": {},
   "outputs": [
    {
     "name": "stdout",
     "output_type": "stream",
     "text": [
      "enter string:appli123cation456\n",
      "sum= 21\n"
     ]
    }
   ],
   "source": [
    "#Q7)Accept input as a string and display sum of digits as the output \n",
    "#input:Appli123cation456 \n",
    "#Output: 21\n",
    "\n",
    "s=input(\"enter string:\")\n",
    "sum=0\n",
    "for i in s:\n",
    "    if (i.isdigit()):\n",
    "        sum=sum+int(i)\n",
    "print(\"sum=\",sum)        \n",
    " \n",
    "    \n",
    "    "
   ]
  },
  {
   "cell_type": "code",
   "execution_count": 3,
   "metadata": {},
   "outputs": [
    {
     "name": "stdout",
     "output_type": "stream",
     "text": [
      "enter score:0.85\n",
      "B\n"
     ]
    }
   ],
   "source": [
    "#Q8)Write a program to prompt for a score between 0.0 and 1.0. If the score is out of range, print an error. If the score is between 0.0 and 1.0, print a grade using the following table:\n",
    "#Score Grade\n",
    "#>= 0.9 A\n",
    "#>= 0.8 B\n",
    "#>= 0.7 C\n",
    "#>= 0.6 D\n",
    "#< 0.6 F\n",
    "#If the user enters a value out of range, print a suitable error message and exit. For the test, enter a score of 0.85\n",
    "\n",
    "f=float(input(\"enter score:\"))\n",
    "if f>1.0 or f<0.0:\n",
    "    print(\"error\")\n",
    "elif f>=0.9:\n",
    "    print(\"A\")\n",
    "elif f>=0.8:\n",
    "    print(\"B\")\n",
    "elif f>=0.7:\n",
    "    print(\"C\")\n",
    "elif f>=0.6:\n",
    "    print(\"D\")\n",
    "else:\n",
    "    print(\"F\")"
   ]
  },
  {
   "cell_type": "code",
   "execution_count": 5,
   "metadata": {},
   "outputs": [
    {
     "name": "stdout",
     "output_type": "stream",
     "text": [
      "1 \n",
      "\n",
      "2 \n",
      "\n",
      "Fizz\n",
      "\n",
      "4 \n",
      "\n",
      "Buzz\n",
      "\n",
      "Fizz\n",
      "\n",
      "7 \n",
      "\n",
      "8 \n",
      "\n",
      "Fizz\n",
      "\n",
      "Buzz\n",
      "\n",
      "11 \n",
      "\n",
      "Fizz\n",
      "\n",
      "13 \n",
      "\n",
      "14 \n",
      "\n",
      "FizzBuzz\n",
      "\n",
      "16 \n",
      "\n",
      "17 \n",
      "\n",
      "Fizz\n",
      "\n",
      "19 \n",
      "\n",
      "Buzz\n",
      "\n",
      "Fizz\n",
      "\n",
      "22 \n",
      "\n",
      "23 \n",
      "\n",
      "Fizz\n",
      "\n",
      "Buzz\n",
      "\n",
      "26 \n",
      "\n",
      "Fizz\n",
      "\n",
      "28 \n",
      "\n",
      "29 \n",
      "\n",
      "FizzBuzz\n",
      "\n",
      "31 \n",
      "\n",
      "32 \n",
      "\n",
      "Fizz\n",
      "\n",
      "34 \n",
      "\n",
      "Buzz\n",
      "\n",
      "Fizz\n",
      "\n",
      "37 \n",
      "\n",
      "38 \n",
      "\n",
      "Fizz\n",
      "\n",
      "Buzz\n",
      "\n",
      "41 \n",
      "\n",
      "Fizz\n",
      "\n",
      "43 \n",
      "\n",
      "44 \n",
      "\n",
      "FizzBuzz\n",
      "\n",
      "46 \n",
      "\n",
      "47 \n",
      "\n",
      "Fizz\n",
      "\n",
      "49 \n",
      "\n",
      "Buzz\n",
      "\n"
     ]
    }
   ],
   "source": [
    "#Q9)Write a Python program which iterates the integers from 1 to 50. For multiples of three print \"Fizz\" instead of the number and for the multiples of five print \"Buzz\". For numbers which are multiples of both three and five print \"FizzBuzz\".\n",
    "#Sample Output :\n",
    "#fizzbuzz\n",
    "#1\n",
    "#2\n",
    "#fizz\n",
    "#4\n",
    "#buzz\n",
    "\n",
    "for i in range(1,51):\n",
    "    if i%3==0 and i%5==0:\n",
    "        print(\"FizzBuzz\\n\")\n",
    "    elif i%3==0:\n",
    "        print(\"Fizz\\n\")\n",
    "    elif i%5==0:\n",
    "        print(\"Buzz\\n\")\n",
    "    else:\n",
    "        print(i,\"\\n\")"
   ]
  },
  {
   "cell_type": "code",
   "execution_count": 6,
   "metadata": {},
   "outputs": [
    {
     "name": "stdout",
     "output_type": "stream",
     "text": [
      "Input first number: 26\n",
      "Input second number: 15\n",
      "Input third number: 29\n",
      "The median is 26\n"
     ]
    }
   ],
   "source": [
    "#Q10)Write a Python program to find the median of three values.\n",
    "#Expected Output:\n",
    "#Input first number: 26                                            \n",
    "#Input second number: 15                                                \n",
    "#Input third number: 29                                                  \n",
    "#The median is 26\n",
    "\n",
    "a = (input(\"Input first number: \"))\n",
    "b = (input(\"Input second number: \"))\n",
    "c = (input(\"Input third number: \"))\n",
    "if a > b:\n",
    "    if a < c:\n",
    "        median = a\n",
    "    elif b > c:\n",
    "        median = b\n",
    "    else:\n",
    "        median = c\n",
    "else:\n",
    "    if a > c:\n",
    "        median = a\n",
    "    elif b < c:\n",
    "        median = b\n",
    "    else:\n",
    "        median = c\n",
    "\n",
    "print(\"The median is\", median)"
   ]
  },
  {
   "cell_type": "code",
   "execution_count": null,
   "metadata": {},
   "outputs": [],
   "source": []
  }
 ],
 "metadata": {
  "kernelspec": {
   "display_name": "Python 3",
   "language": "python",
   "name": "python3"
  },
  "language_info": {
   "codemirror_mode": {
    "name": "ipython",
    "version": 3
   },
   "file_extension": ".py",
   "mimetype": "text/x-python",
   "name": "python",
   "nbconvert_exporter": "python",
   "pygments_lexer": "ipython3",
   "version": "3.7.3"
  }
 },
 "nbformat": 4,
 "nbformat_minor": 2
}
